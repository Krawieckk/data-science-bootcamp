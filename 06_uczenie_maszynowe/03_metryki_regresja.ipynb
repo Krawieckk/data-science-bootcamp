{
  "nbformat": 4,
  "nbformat_minor": 0,
  "metadata": {
    "colab": {
      "provenance": [],
      "authorship_tag": "ABX9TyNMR5tlBPEpx+QCBgMho4WY",
      "include_colab_link": true
    },
    "kernelspec": {
      "name": "python3",
      "display_name": "Python 3"
    },
    "language_info": {
      "name": "python"
    }
  },
  "cells": [
    {
      "cell_type": "markdown",
      "metadata": {
        "id": "view-in-github",
        "colab_type": "text"
      },
      "source": [
        "<a href=\"https://colab.research.google.com/github/Krawieckk/data-science-bootcamp/blob/main/06_uczenie_maszynowe/03_metryki_regresja.ipynb\" target=\"_parent\"><img src=\"https://colab.research.google.com/assets/colab-badge.svg\" alt=\"Open In Colab\"/></a>"
      ]
    },
    {
      "cell_type": "code",
      "execution_count": 1,
      "metadata": {
        "id": "SIhGWN3fM2Do"
      },
      "outputs": [],
      "source": [
        "import numpy as np\n",
        "import pandas as pd\n",
        "import plotly.express as px\n",
        "import plotly.graph_objects as go"
      ]
    },
    {
      "cell_type": "code",
      "source": [
        "y_true = 100 + 20 * np.random.randn(50)\n",
        "y_true"
      ],
      "metadata": {
        "colab": {
          "base_uri": "https://localhost:8080/"
        },
        "id": "X7F4995yNJIQ",
        "outputId": "fc6e4021-ea3b-4c83-e102-1a4e6bf109c9"
      },
      "execution_count": 8,
      "outputs": [
        {
          "output_type": "execute_result",
          "data": {
            "text/plain": [
              "array([ 77.51233475, 143.74901478,  96.2565488 , 102.66335632,\n",
              "       105.386507  ,  97.74474385,  81.61338044,  88.16284031,\n",
              "       118.45127306, 123.37162951,  96.91339222,  95.95943969,\n",
              "        88.36337012,  55.21645787,  70.74857429,  86.4925773 ,\n",
              "       106.84358533, 119.23470172,  99.91261311, 111.73610838,\n",
              "        40.18865289, 107.00472632, 105.43909941, 130.57570548,\n",
              "       117.5389321 , 102.03624086, 120.43310955, 111.72623009,\n",
              "       137.40822768, 109.2604319 , 117.22311027,  81.12262257,\n",
              "        98.32731786,  98.99208961, 118.78338475, 119.46823303,\n",
              "        89.93864155,  99.05896984, 103.14555598,  91.99866823,\n",
              "       147.3854804 , 100.46929014,  71.78177448,  97.75994214,\n",
              "        73.52041412, 128.79162748,  71.37749689, 104.72451406,\n",
              "        78.9807157 ,  58.87153792])"
            ]
          },
          "metadata": {},
          "execution_count": 8
        }
      ]
    },
    {
      "cell_type": "code",
      "source": [
        "y_pred = y_true + 10 * np.random.randn(50)\n",
        "y_pred"
      ],
      "metadata": {
        "colab": {
          "base_uri": "https://localhost:8080/"
        },
        "id": "Xr2JiI8oNYib",
        "outputId": "d485e4d2-8d8d-42a1-865b-3116ec1698c6"
      },
      "execution_count": 9,
      "outputs": [
        {
          "output_type": "execute_result",
          "data": {
            "text/plain": [
              "array([ 77.03381818, 146.70932132,  93.62753983,  86.26143862,\n",
              "        96.85782146,  95.430255  ,  84.29723553,  85.76041782,\n",
              "       119.77398973, 138.78715615, 100.05055192, 102.37620198,\n",
              "        91.40260716,  66.27226388,  68.60032193,  88.7222747 ,\n",
              "        83.95108747, 126.11638743,  96.59770695, 102.2477476 ,\n",
              "        45.74788792, 114.05430349,  99.55462748, 130.5743074 ,\n",
              "       107.5296876 , 110.298624  , 126.47787523, 112.18787475,\n",
              "       143.83436937, 106.49184437, 121.49098638,  76.73637458,\n",
              "       114.5264705 , 100.53499924, 111.15800089, 126.53470213,\n",
              "        81.701551  , 112.70965156, 105.88808578,  93.51884178,\n",
              "       146.81714565,  79.67168299,  65.44608478, 106.54551425,\n",
              "        77.09155522, 124.94534396,  77.15017893,  87.84053187,\n",
              "        88.48494699,  47.44147025])"
            ]
          },
          "metadata": {},
          "execution_count": 9
        }
      ]
    },
    {
      "cell_type": "code",
      "source": [
        "results = pd.DataFrame({'y_true': y_true, 'y_pred': y_pred})\n",
        "results.head()"
      ],
      "metadata": {
        "colab": {
          "base_uri": "https://localhost:8080/",
          "height": 206
        },
        "id": "oZ3NQK_qNvAP",
        "outputId": "b01192d4-a7e6-4199-eeac-ace70e4f1783"
      },
      "execution_count": 10,
      "outputs": [
        {
          "output_type": "execute_result",
          "data": {
            "text/plain": [
              "       y_true      y_pred\n",
              "0   77.512335   77.033818\n",
              "1  143.749015  146.709321\n",
              "2   96.256549   93.627540\n",
              "3  102.663356   86.261439\n",
              "4  105.386507   96.857821"
            ],
            "text/html": [
              "\n",
              "  <div id=\"df-61955d99-04eb-4189-b8a9-f9879a23196b\" class=\"colab-df-container\">\n",
              "    <div>\n",
              "<style scoped>\n",
              "    .dataframe tbody tr th:only-of-type {\n",
              "        vertical-align: middle;\n",
              "    }\n",
              "\n",
              "    .dataframe tbody tr th {\n",
              "        vertical-align: top;\n",
              "    }\n",
              "\n",
              "    .dataframe thead th {\n",
              "        text-align: right;\n",
              "    }\n",
              "</style>\n",
              "<table border=\"1\" class=\"dataframe\">\n",
              "  <thead>\n",
              "    <tr style=\"text-align: right;\">\n",
              "      <th></th>\n",
              "      <th>y_true</th>\n",
              "      <th>y_pred</th>\n",
              "    </tr>\n",
              "  </thead>\n",
              "  <tbody>\n",
              "    <tr>\n",
              "      <th>0</th>\n",
              "      <td>77.512335</td>\n",
              "      <td>77.033818</td>\n",
              "    </tr>\n",
              "    <tr>\n",
              "      <th>1</th>\n",
              "      <td>143.749015</td>\n",
              "      <td>146.709321</td>\n",
              "    </tr>\n",
              "    <tr>\n",
              "      <th>2</th>\n",
              "      <td>96.256549</td>\n",
              "      <td>93.627540</td>\n",
              "    </tr>\n",
              "    <tr>\n",
              "      <th>3</th>\n",
              "      <td>102.663356</td>\n",
              "      <td>86.261439</td>\n",
              "    </tr>\n",
              "    <tr>\n",
              "      <th>4</th>\n",
              "      <td>105.386507</td>\n",
              "      <td>96.857821</td>\n",
              "    </tr>\n",
              "  </tbody>\n",
              "</table>\n",
              "</div>\n",
              "    <div class=\"colab-df-buttons\">\n",
              "\n",
              "  <div class=\"colab-df-container\">\n",
              "    <button class=\"colab-df-convert\" onclick=\"convertToInteractive('df-61955d99-04eb-4189-b8a9-f9879a23196b')\"\n",
              "            title=\"Convert this dataframe to an interactive table.\"\n",
              "            style=\"display:none;\">\n",
              "\n",
              "  <svg xmlns=\"http://www.w3.org/2000/svg\" height=\"24px\" viewBox=\"0 -960 960 960\">\n",
              "    <path d=\"M120-120v-720h720v720H120Zm60-500h600v-160H180v160Zm220 220h160v-160H400v160Zm0 220h160v-160H400v160ZM180-400h160v-160H180v160Zm440 0h160v-160H620v160ZM180-180h160v-160H180v160Zm440 0h160v-160H620v160Z\"/>\n",
              "  </svg>\n",
              "    </button>\n",
              "\n",
              "  <style>\n",
              "    .colab-df-container {\n",
              "      display:flex;\n",
              "      gap: 12px;\n",
              "    }\n",
              "\n",
              "    .colab-df-convert {\n",
              "      background-color: #E8F0FE;\n",
              "      border: none;\n",
              "      border-radius: 50%;\n",
              "      cursor: pointer;\n",
              "      display: none;\n",
              "      fill: #1967D2;\n",
              "      height: 32px;\n",
              "      padding: 0 0 0 0;\n",
              "      width: 32px;\n",
              "    }\n",
              "\n",
              "    .colab-df-convert:hover {\n",
              "      background-color: #E2EBFA;\n",
              "      box-shadow: 0px 1px 2px rgba(60, 64, 67, 0.3), 0px 1px 3px 1px rgba(60, 64, 67, 0.15);\n",
              "      fill: #174EA6;\n",
              "    }\n",
              "\n",
              "    .colab-df-buttons div {\n",
              "      margin-bottom: 4px;\n",
              "    }\n",
              "\n",
              "    [theme=dark] .colab-df-convert {\n",
              "      background-color: #3B4455;\n",
              "      fill: #D2E3FC;\n",
              "    }\n",
              "\n",
              "    [theme=dark] .colab-df-convert:hover {\n",
              "      background-color: #434B5C;\n",
              "      box-shadow: 0px 1px 3px 1px rgba(0, 0, 0, 0.15);\n",
              "      filter: drop-shadow(0px 1px 2px rgba(0, 0, 0, 0.3));\n",
              "      fill: #FFFFFF;\n",
              "    }\n",
              "  </style>\n",
              "\n",
              "    <script>\n",
              "      const buttonEl =\n",
              "        document.querySelector('#df-61955d99-04eb-4189-b8a9-f9879a23196b button.colab-df-convert');\n",
              "      buttonEl.style.display =\n",
              "        google.colab.kernel.accessAllowed ? 'block' : 'none';\n",
              "\n",
              "      async function convertToInteractive(key) {\n",
              "        const element = document.querySelector('#df-61955d99-04eb-4189-b8a9-f9879a23196b');\n",
              "        const dataTable =\n",
              "          await google.colab.kernel.invokeFunction('convertToInteractive',\n",
              "                                                    [key], {});\n",
              "        if (!dataTable) return;\n",
              "\n",
              "        const docLinkHtml = 'Like what you see? Visit the ' +\n",
              "          '<a target=\"_blank\" href=https://colab.research.google.com/notebooks/data_table.ipynb>data table notebook</a>'\n",
              "          + ' to learn more about interactive tables.';\n",
              "        element.innerHTML = '';\n",
              "        dataTable['output_type'] = 'display_data';\n",
              "        await google.colab.output.renderOutput(dataTable, element);\n",
              "        const docLink = document.createElement('div');\n",
              "        docLink.innerHTML = docLinkHtml;\n",
              "        element.appendChild(docLink);\n",
              "      }\n",
              "    </script>\n",
              "  </div>\n",
              "\n",
              "\n",
              "<div id=\"df-e7a13818-757f-4206-93c6-02eb12ac2cc3\">\n",
              "  <button class=\"colab-df-quickchart\" onclick=\"quickchart('df-e7a13818-757f-4206-93c6-02eb12ac2cc3')\"\n",
              "            title=\"Suggest charts\"\n",
              "            style=\"display:none;\">\n",
              "\n",
              "<svg xmlns=\"http://www.w3.org/2000/svg\" height=\"24px\"viewBox=\"0 0 24 24\"\n",
              "     width=\"24px\">\n",
              "    <g>\n",
              "        <path d=\"M19 3H5c-1.1 0-2 .9-2 2v14c0 1.1.9 2 2 2h14c1.1 0 2-.9 2-2V5c0-1.1-.9-2-2-2zM9 17H7v-7h2v7zm4 0h-2V7h2v10zm4 0h-2v-4h2v4z\"/>\n",
              "    </g>\n",
              "</svg>\n",
              "  </button>\n",
              "\n",
              "<style>\n",
              "  .colab-df-quickchart {\n",
              "      --bg-color: #E8F0FE;\n",
              "      --fill-color: #1967D2;\n",
              "      --hover-bg-color: #E2EBFA;\n",
              "      --hover-fill-color: #174EA6;\n",
              "      --disabled-fill-color: #AAA;\n",
              "      --disabled-bg-color: #DDD;\n",
              "  }\n",
              "\n",
              "  [theme=dark] .colab-df-quickchart {\n",
              "      --bg-color: #3B4455;\n",
              "      --fill-color: #D2E3FC;\n",
              "      --hover-bg-color: #434B5C;\n",
              "      --hover-fill-color: #FFFFFF;\n",
              "      --disabled-bg-color: #3B4455;\n",
              "      --disabled-fill-color: #666;\n",
              "  }\n",
              "\n",
              "  .colab-df-quickchart {\n",
              "    background-color: var(--bg-color);\n",
              "    border: none;\n",
              "    border-radius: 50%;\n",
              "    cursor: pointer;\n",
              "    display: none;\n",
              "    fill: var(--fill-color);\n",
              "    height: 32px;\n",
              "    padding: 0;\n",
              "    width: 32px;\n",
              "  }\n",
              "\n",
              "  .colab-df-quickchart:hover {\n",
              "    background-color: var(--hover-bg-color);\n",
              "    box-shadow: 0 1px 2px rgba(60, 64, 67, 0.3), 0 1px 3px 1px rgba(60, 64, 67, 0.15);\n",
              "    fill: var(--button-hover-fill-color);\n",
              "  }\n",
              "\n",
              "  .colab-df-quickchart-complete:disabled,\n",
              "  .colab-df-quickchart-complete:disabled:hover {\n",
              "    background-color: var(--disabled-bg-color);\n",
              "    fill: var(--disabled-fill-color);\n",
              "    box-shadow: none;\n",
              "  }\n",
              "\n",
              "  .colab-df-spinner {\n",
              "    border: 2px solid var(--fill-color);\n",
              "    border-color: transparent;\n",
              "    border-bottom-color: var(--fill-color);\n",
              "    animation:\n",
              "      spin 1s steps(1) infinite;\n",
              "  }\n",
              "\n",
              "  @keyframes spin {\n",
              "    0% {\n",
              "      border-color: transparent;\n",
              "      border-bottom-color: var(--fill-color);\n",
              "      border-left-color: var(--fill-color);\n",
              "    }\n",
              "    20% {\n",
              "      border-color: transparent;\n",
              "      border-left-color: var(--fill-color);\n",
              "      border-top-color: var(--fill-color);\n",
              "    }\n",
              "    30% {\n",
              "      border-color: transparent;\n",
              "      border-left-color: var(--fill-color);\n",
              "      border-top-color: var(--fill-color);\n",
              "      border-right-color: var(--fill-color);\n",
              "    }\n",
              "    40% {\n",
              "      border-color: transparent;\n",
              "      border-right-color: var(--fill-color);\n",
              "      border-top-color: var(--fill-color);\n",
              "    }\n",
              "    60% {\n",
              "      border-color: transparent;\n",
              "      border-right-color: var(--fill-color);\n",
              "    }\n",
              "    80% {\n",
              "      border-color: transparent;\n",
              "      border-right-color: var(--fill-color);\n",
              "      border-bottom-color: var(--fill-color);\n",
              "    }\n",
              "    90% {\n",
              "      border-color: transparent;\n",
              "      border-bottom-color: var(--fill-color);\n",
              "    }\n",
              "  }\n",
              "</style>\n",
              "\n",
              "  <script>\n",
              "    async function quickchart(key) {\n",
              "      const quickchartButtonEl =\n",
              "        document.querySelector('#' + key + ' button');\n",
              "      quickchartButtonEl.disabled = true;  // To prevent multiple clicks.\n",
              "      quickchartButtonEl.classList.add('colab-df-spinner');\n",
              "      try {\n",
              "        const charts = await google.colab.kernel.invokeFunction(\n",
              "            'suggestCharts', [key], {});\n",
              "      } catch (error) {\n",
              "        console.error('Error during call to suggestCharts:', error);\n",
              "      }\n",
              "      quickchartButtonEl.classList.remove('colab-df-spinner');\n",
              "      quickchartButtonEl.classList.add('colab-df-quickchart-complete');\n",
              "    }\n",
              "    (() => {\n",
              "      let quickchartButtonEl =\n",
              "        document.querySelector('#df-e7a13818-757f-4206-93c6-02eb12ac2cc3 button');\n",
              "      quickchartButtonEl.style.display =\n",
              "        google.colab.kernel.accessAllowed ? 'block' : 'none';\n",
              "    })();\n",
              "  </script>\n",
              "</div>\n",
              "    </div>\n",
              "  </div>\n"
            ]
          },
          "metadata": {},
          "execution_count": 10
        }
      ]
    },
    {
      "cell_type": "code",
      "source": [
        "results['error'] = results['y_true'] - results['y_pred']\n",
        "results.head()"
      ],
      "metadata": {
        "colab": {
          "base_uri": "https://localhost:8080/",
          "height": 206
        },
        "id": "Pqhz0IDmN56z",
        "outputId": "91adc18b-8083-42b7-d5a8-eca24408d251"
      },
      "execution_count": 11,
      "outputs": [
        {
          "output_type": "execute_result",
          "data": {
            "text/plain": [
              "       y_true      y_pred      error\n",
              "0   77.512335   77.033818   0.478517\n",
              "1  143.749015  146.709321  -2.960307\n",
              "2   96.256549   93.627540   2.629009\n",
              "3  102.663356   86.261439  16.401918\n",
              "4  105.386507   96.857821   8.528686"
            ],
            "text/html": [
              "\n",
              "  <div id=\"df-8af25492-a98b-4336-a1a4-d05713dd361c\" class=\"colab-df-container\">\n",
              "    <div>\n",
              "<style scoped>\n",
              "    .dataframe tbody tr th:only-of-type {\n",
              "        vertical-align: middle;\n",
              "    }\n",
              "\n",
              "    .dataframe tbody tr th {\n",
              "        vertical-align: top;\n",
              "    }\n",
              "\n",
              "    .dataframe thead th {\n",
              "        text-align: right;\n",
              "    }\n",
              "</style>\n",
              "<table border=\"1\" class=\"dataframe\">\n",
              "  <thead>\n",
              "    <tr style=\"text-align: right;\">\n",
              "      <th></th>\n",
              "      <th>y_true</th>\n",
              "      <th>y_pred</th>\n",
              "      <th>error</th>\n",
              "    </tr>\n",
              "  </thead>\n",
              "  <tbody>\n",
              "    <tr>\n",
              "      <th>0</th>\n",
              "      <td>77.512335</td>\n",
              "      <td>77.033818</td>\n",
              "      <td>0.478517</td>\n",
              "    </tr>\n",
              "    <tr>\n",
              "      <th>1</th>\n",
              "      <td>143.749015</td>\n",
              "      <td>146.709321</td>\n",
              "      <td>-2.960307</td>\n",
              "    </tr>\n",
              "    <tr>\n",
              "      <th>2</th>\n",
              "      <td>96.256549</td>\n",
              "      <td>93.627540</td>\n",
              "      <td>2.629009</td>\n",
              "    </tr>\n",
              "    <tr>\n",
              "      <th>3</th>\n",
              "      <td>102.663356</td>\n",
              "      <td>86.261439</td>\n",
              "      <td>16.401918</td>\n",
              "    </tr>\n",
              "    <tr>\n",
              "      <th>4</th>\n",
              "      <td>105.386507</td>\n",
              "      <td>96.857821</td>\n",
              "      <td>8.528686</td>\n",
              "    </tr>\n",
              "  </tbody>\n",
              "</table>\n",
              "</div>\n",
              "    <div class=\"colab-df-buttons\">\n",
              "\n",
              "  <div class=\"colab-df-container\">\n",
              "    <button class=\"colab-df-convert\" onclick=\"convertToInteractive('df-8af25492-a98b-4336-a1a4-d05713dd361c')\"\n",
              "            title=\"Convert this dataframe to an interactive table.\"\n",
              "            style=\"display:none;\">\n",
              "\n",
              "  <svg xmlns=\"http://www.w3.org/2000/svg\" height=\"24px\" viewBox=\"0 -960 960 960\">\n",
              "    <path d=\"M120-120v-720h720v720H120Zm60-500h600v-160H180v160Zm220 220h160v-160H400v160Zm0 220h160v-160H400v160ZM180-400h160v-160H180v160Zm440 0h160v-160H620v160ZM180-180h160v-160H180v160Zm440 0h160v-160H620v160Z\"/>\n",
              "  </svg>\n",
              "    </button>\n",
              "\n",
              "  <style>\n",
              "    .colab-df-container {\n",
              "      display:flex;\n",
              "      gap: 12px;\n",
              "    }\n",
              "\n",
              "    .colab-df-convert {\n",
              "      background-color: #E8F0FE;\n",
              "      border: none;\n",
              "      border-radius: 50%;\n",
              "      cursor: pointer;\n",
              "      display: none;\n",
              "      fill: #1967D2;\n",
              "      height: 32px;\n",
              "      padding: 0 0 0 0;\n",
              "      width: 32px;\n",
              "    }\n",
              "\n",
              "    .colab-df-convert:hover {\n",
              "      background-color: #E2EBFA;\n",
              "      box-shadow: 0px 1px 2px rgba(60, 64, 67, 0.3), 0px 1px 3px 1px rgba(60, 64, 67, 0.15);\n",
              "      fill: #174EA6;\n",
              "    }\n",
              "\n",
              "    .colab-df-buttons div {\n",
              "      margin-bottom: 4px;\n",
              "    }\n",
              "\n",
              "    [theme=dark] .colab-df-convert {\n",
              "      background-color: #3B4455;\n",
              "      fill: #D2E3FC;\n",
              "    }\n",
              "\n",
              "    [theme=dark] .colab-df-convert:hover {\n",
              "      background-color: #434B5C;\n",
              "      box-shadow: 0px 1px 3px 1px rgba(0, 0, 0, 0.15);\n",
              "      filter: drop-shadow(0px 1px 2px rgba(0, 0, 0, 0.3));\n",
              "      fill: #FFFFFF;\n",
              "    }\n",
              "  </style>\n",
              "\n",
              "    <script>\n",
              "      const buttonEl =\n",
              "        document.querySelector('#df-8af25492-a98b-4336-a1a4-d05713dd361c button.colab-df-convert');\n",
              "      buttonEl.style.display =\n",
              "        google.colab.kernel.accessAllowed ? 'block' : 'none';\n",
              "\n",
              "      async function convertToInteractive(key) {\n",
              "        const element = document.querySelector('#df-8af25492-a98b-4336-a1a4-d05713dd361c');\n",
              "        const dataTable =\n",
              "          await google.colab.kernel.invokeFunction('convertToInteractive',\n",
              "                                                    [key], {});\n",
              "        if (!dataTable) return;\n",
              "\n",
              "        const docLinkHtml = 'Like what you see? Visit the ' +\n",
              "          '<a target=\"_blank\" href=https://colab.research.google.com/notebooks/data_table.ipynb>data table notebook</a>'\n",
              "          + ' to learn more about interactive tables.';\n",
              "        element.innerHTML = '';\n",
              "        dataTable['output_type'] = 'display_data';\n",
              "        await google.colab.output.renderOutput(dataTable, element);\n",
              "        const docLink = document.createElement('div');\n",
              "        docLink.innerHTML = docLinkHtml;\n",
              "        element.appendChild(docLink);\n",
              "      }\n",
              "    </script>\n",
              "  </div>\n",
              "\n",
              "\n",
              "<div id=\"df-1bc994bf-eea9-471e-ac0f-3306084330b8\">\n",
              "  <button class=\"colab-df-quickchart\" onclick=\"quickchart('df-1bc994bf-eea9-471e-ac0f-3306084330b8')\"\n",
              "            title=\"Suggest charts\"\n",
              "            style=\"display:none;\">\n",
              "\n",
              "<svg xmlns=\"http://www.w3.org/2000/svg\" height=\"24px\"viewBox=\"0 0 24 24\"\n",
              "     width=\"24px\">\n",
              "    <g>\n",
              "        <path d=\"M19 3H5c-1.1 0-2 .9-2 2v14c0 1.1.9 2 2 2h14c1.1 0 2-.9 2-2V5c0-1.1-.9-2-2-2zM9 17H7v-7h2v7zm4 0h-2V7h2v10zm4 0h-2v-4h2v4z\"/>\n",
              "    </g>\n",
              "</svg>\n",
              "  </button>\n",
              "\n",
              "<style>\n",
              "  .colab-df-quickchart {\n",
              "      --bg-color: #E8F0FE;\n",
              "      --fill-color: #1967D2;\n",
              "      --hover-bg-color: #E2EBFA;\n",
              "      --hover-fill-color: #174EA6;\n",
              "      --disabled-fill-color: #AAA;\n",
              "      --disabled-bg-color: #DDD;\n",
              "  }\n",
              "\n",
              "  [theme=dark] .colab-df-quickchart {\n",
              "      --bg-color: #3B4455;\n",
              "      --fill-color: #D2E3FC;\n",
              "      --hover-bg-color: #434B5C;\n",
              "      --hover-fill-color: #FFFFFF;\n",
              "      --disabled-bg-color: #3B4455;\n",
              "      --disabled-fill-color: #666;\n",
              "  }\n",
              "\n",
              "  .colab-df-quickchart {\n",
              "    background-color: var(--bg-color);\n",
              "    border: none;\n",
              "    border-radius: 50%;\n",
              "    cursor: pointer;\n",
              "    display: none;\n",
              "    fill: var(--fill-color);\n",
              "    height: 32px;\n",
              "    padding: 0;\n",
              "    width: 32px;\n",
              "  }\n",
              "\n",
              "  .colab-df-quickchart:hover {\n",
              "    background-color: var(--hover-bg-color);\n",
              "    box-shadow: 0 1px 2px rgba(60, 64, 67, 0.3), 0 1px 3px 1px rgba(60, 64, 67, 0.15);\n",
              "    fill: var(--button-hover-fill-color);\n",
              "  }\n",
              "\n",
              "  .colab-df-quickchart-complete:disabled,\n",
              "  .colab-df-quickchart-complete:disabled:hover {\n",
              "    background-color: var(--disabled-bg-color);\n",
              "    fill: var(--disabled-fill-color);\n",
              "    box-shadow: none;\n",
              "  }\n",
              "\n",
              "  .colab-df-spinner {\n",
              "    border: 2px solid var(--fill-color);\n",
              "    border-color: transparent;\n",
              "    border-bottom-color: var(--fill-color);\n",
              "    animation:\n",
              "      spin 1s steps(1) infinite;\n",
              "  }\n",
              "\n",
              "  @keyframes spin {\n",
              "    0% {\n",
              "      border-color: transparent;\n",
              "      border-bottom-color: var(--fill-color);\n",
              "      border-left-color: var(--fill-color);\n",
              "    }\n",
              "    20% {\n",
              "      border-color: transparent;\n",
              "      border-left-color: var(--fill-color);\n",
              "      border-top-color: var(--fill-color);\n",
              "    }\n",
              "    30% {\n",
              "      border-color: transparent;\n",
              "      border-left-color: var(--fill-color);\n",
              "      border-top-color: var(--fill-color);\n",
              "      border-right-color: var(--fill-color);\n",
              "    }\n",
              "    40% {\n",
              "      border-color: transparent;\n",
              "      border-right-color: var(--fill-color);\n",
              "      border-top-color: var(--fill-color);\n",
              "    }\n",
              "    60% {\n",
              "      border-color: transparent;\n",
              "      border-right-color: var(--fill-color);\n",
              "    }\n",
              "    80% {\n",
              "      border-color: transparent;\n",
              "      border-right-color: var(--fill-color);\n",
              "      border-bottom-color: var(--fill-color);\n",
              "    }\n",
              "    90% {\n",
              "      border-color: transparent;\n",
              "      border-bottom-color: var(--fill-color);\n",
              "    }\n",
              "  }\n",
              "</style>\n",
              "\n",
              "  <script>\n",
              "    async function quickchart(key) {\n",
              "      const quickchartButtonEl =\n",
              "        document.querySelector('#' + key + ' button');\n",
              "      quickchartButtonEl.disabled = true;  // To prevent multiple clicks.\n",
              "      quickchartButtonEl.classList.add('colab-df-spinner');\n",
              "      try {\n",
              "        const charts = await google.colab.kernel.invokeFunction(\n",
              "            'suggestCharts', [key], {});\n",
              "      } catch (error) {\n",
              "        console.error('Error during call to suggestCharts:', error);\n",
              "      }\n",
              "      quickchartButtonEl.classList.remove('colab-df-spinner');\n",
              "      quickchartButtonEl.classList.add('colab-df-quickchart-complete');\n",
              "    }\n",
              "    (() => {\n",
              "      let quickchartButtonEl =\n",
              "        document.querySelector('#df-1bc994bf-eea9-471e-ac0f-3306084330b8 button');\n",
              "      quickchartButtonEl.style.display =\n",
              "        google.colab.kernel.accessAllowed ? 'block' : 'none';\n",
              "    })();\n",
              "  </script>\n",
              "</div>\n",
              "    </div>\n",
              "  </div>\n"
            ]
          },
          "metadata": {},
          "execution_count": 11
        }
      ]
    },
    {
      "cell_type": "markdown",
      "source": [
        "# Interpretacja graficzna"
      ],
      "metadata": {
        "id": "-5nILm7JON4E"
      }
    },
    {
      "cell_type": "code",
      "source": [
        "def plot_regression_results(y_true, y_pred):\n",
        "  results = pd.DataFrame({'y_true': y_true, 'y_pred': y_pred})\n",
        "  min = results[['y_true', 'y_pred']].min().min()\n",
        "  max = results[['y_true', 'y_pred']].max().max()\n",
        "\n",
        "  fig = go.Figure(data=[go.Scatter(x=results['y_true'], y=results['y_pred'], mode='markers'),\n",
        "  go.Scatter(x=[min, max], y=[min, max])],\n",
        "  layout=go.Layout(showlegend=False, width=800,\n",
        "                   xaxis_title='y_true',\n",
        "                   yaxis_title='y_pred',\n",
        "                   title='Regression results'))\n",
        "\n",
        "  fig.show()\n",
        "\n",
        "plot_regression_results(y_true, y_pred)"
      ],
      "metadata": {
        "colab": {
          "base_uri": "https://localhost:8080/",
          "height": 542
        },
        "id": "PxT5DdK6OSir",
        "outputId": "f3f038f1-934d-416b-fa69-f013eaf57e34"
      },
      "execution_count": 20,
      "outputs": [
        {
          "output_type": "display_data",
          "data": {
            "text/html": [
              "<html>\n",
              "<head><meta charset=\"utf-8\" /></head>\n",
              "<body>\n",
              "    <div>            <script src=\"https://cdnjs.cloudflare.com/ajax/libs/mathjax/2.7.5/MathJax.js?config=TeX-AMS-MML_SVG\"></script><script type=\"text/javascript\">if (window.MathJax && window.MathJax.Hub && window.MathJax.Hub.Config) {window.MathJax.Hub.Config({SVG: {font: \"STIX-Web\"}});}</script>                <script type=\"text/javascript\">window.PlotlyConfig = {MathJaxConfig: 'local'};</script>\n",
              "        <script charset=\"utf-8\" src=\"https://cdn.plot.ly/plotly-2.24.1.min.js\"></script>                <div id=\"d7cc1998-5caa-434c-b571-2d363252c0a6\" class=\"plotly-graph-div\" style=\"height:525px; width:800px;\"></div>            <script type=\"text/javascript\">                                    window.PLOTLYENV=window.PLOTLYENV || {};                                    if (document.getElementById(\"d7cc1998-5caa-434c-b571-2d363252c0a6\")) {                    Plotly.newPlot(                        \"d7cc1998-5caa-434c-b571-2d363252c0a6\",                        [{\"mode\":\"markers\",\"x\":[77.51233474551867,143.74901478107552,96.25654879943666,102.6633563241702,105.386507003314,97.74474385125635,81.61338044319928,88.16284031157343,118.45127306123902,123.37162951359375,96.91339222282929,95.95943969064567,88.36337012120504,55.21645786506557,70.74857429492585,86.49257729911065,106.84358532848121,119.23470172101692,99.91261310620975,111.7361083770137,40.188652891662464,107.00472631550946,105.43909941085148,130.5757054837525,117.53893210304659,102.03624086475361,120.43310954555895,111.72623009435675,137.40822768385024,109.26043190189776,117.22311027038187,81.12262256832473,98.32731786071652,98.9920896109689,118.78338474761836,119.46823302712568,89.93864155215951,99.05896983673944,103.14555598019452,91.99866823456651,147.3854804047423,100.46929013993551,71.78177448029757,97.75994214305557,73.52041411693857,128.79162748101686,71.37749689332303,104.72451406015342,78.98071569944389,58.87153791679941],\"y\":[77.03381818053242,146.70932132044726,93.62753983479598,86.26143862434502,96.85782145807931,95.43025500062033,84.29723552532971,85.76041782420019,119.77398973209229,138.78715614934623,100.05055192055443,102.37620197889544,91.40260715527117,66.27226387859079,68.60032192519019,88.72227469977591,83.95108747420281,126.1163874321486,96.59770695470894,102.247747601125,45.74788791509869,114.05430349349402,99.55462748283415,130.57430740475615,107.52968759619196,110.29862400079901,126.47787523226069,112.18787475051711,143.8343693714478,106.49184436972082,121.49098637736557,76.7363745757485,114.52647049608811,100.53499923804564,111.15800089413165,126.53470213458345,81.7015509975271,112.709651563987,105.88808577690811,93.51884178248658,146.8171456479382,79.6716829881208,65.44608477703976,106.54551425326552,77.09155522256371,124.9453439605134,77.15017892505178,87.84053187098597,88.48494698815523,47.44147025080585],\"type\":\"scatter\"},{\"x\":[40.188652891662464,147.3854804047423],\"y\":[40.188652891662464,147.3854804047423],\"type\":\"scatter\"}],                        {\"showlegend\":false,\"title\":{\"text\":\"Regression results\"},\"width\":800,\"xaxis\":{\"title\":{\"text\":\"y_true\"}},\"yaxis\":{\"title\":{\"text\":\"y_pred\"}},\"template\":{\"data\":{\"histogram2dcontour\":[{\"type\":\"histogram2dcontour\",\"colorbar\":{\"outlinewidth\":0,\"ticks\":\"\"},\"colorscale\":[[0.0,\"#0d0887\"],[0.1111111111111111,\"#46039f\"],[0.2222222222222222,\"#7201a8\"],[0.3333333333333333,\"#9c179e\"],[0.4444444444444444,\"#bd3786\"],[0.5555555555555556,\"#d8576b\"],[0.6666666666666666,\"#ed7953\"],[0.7777777777777778,\"#fb9f3a\"],[0.8888888888888888,\"#fdca26\"],[1.0,\"#f0f921\"]]}],\"choropleth\":[{\"type\":\"choropleth\",\"colorbar\":{\"outlinewidth\":0,\"ticks\":\"\"}}],\"histogram2d\":[{\"type\":\"histogram2d\",\"colorbar\":{\"outlinewidth\":0,\"ticks\":\"\"},\"colorscale\":[[0.0,\"#0d0887\"],[0.1111111111111111,\"#46039f\"],[0.2222222222222222,\"#7201a8\"],[0.3333333333333333,\"#9c179e\"],[0.4444444444444444,\"#bd3786\"],[0.5555555555555556,\"#d8576b\"],[0.6666666666666666,\"#ed7953\"],[0.7777777777777778,\"#fb9f3a\"],[0.8888888888888888,\"#fdca26\"],[1.0,\"#f0f921\"]]}],\"heatmap\":[{\"type\":\"heatmap\",\"colorbar\":{\"outlinewidth\":0,\"ticks\":\"\"},\"colorscale\":[[0.0,\"#0d0887\"],[0.1111111111111111,\"#46039f\"],[0.2222222222222222,\"#7201a8\"],[0.3333333333333333,\"#9c179e\"],[0.4444444444444444,\"#bd3786\"],[0.5555555555555556,\"#d8576b\"],[0.6666666666666666,\"#ed7953\"],[0.7777777777777778,\"#fb9f3a\"],[0.8888888888888888,\"#fdca26\"],[1.0,\"#f0f921\"]]}],\"heatmapgl\":[{\"type\":\"heatmapgl\",\"colorbar\":{\"outlinewidth\":0,\"ticks\":\"\"},\"colorscale\":[[0.0,\"#0d0887\"],[0.1111111111111111,\"#46039f\"],[0.2222222222222222,\"#7201a8\"],[0.3333333333333333,\"#9c179e\"],[0.4444444444444444,\"#bd3786\"],[0.5555555555555556,\"#d8576b\"],[0.6666666666666666,\"#ed7953\"],[0.7777777777777778,\"#fb9f3a\"],[0.8888888888888888,\"#fdca26\"],[1.0,\"#f0f921\"]]}],\"contourcarpet\":[{\"type\":\"contourcarpet\",\"colorbar\":{\"outlinewidth\":0,\"ticks\":\"\"}}],\"contour\":[{\"type\":\"contour\",\"colorbar\":{\"outlinewidth\":0,\"ticks\":\"\"},\"colorscale\":[[0.0,\"#0d0887\"],[0.1111111111111111,\"#46039f\"],[0.2222222222222222,\"#7201a8\"],[0.3333333333333333,\"#9c179e\"],[0.4444444444444444,\"#bd3786\"],[0.5555555555555556,\"#d8576b\"],[0.6666666666666666,\"#ed7953\"],[0.7777777777777778,\"#fb9f3a\"],[0.8888888888888888,\"#fdca26\"],[1.0,\"#f0f921\"]]}],\"surface\":[{\"type\":\"surface\",\"colorbar\":{\"outlinewidth\":0,\"ticks\":\"\"},\"colorscale\":[[0.0,\"#0d0887\"],[0.1111111111111111,\"#46039f\"],[0.2222222222222222,\"#7201a8\"],[0.3333333333333333,\"#9c179e\"],[0.4444444444444444,\"#bd3786\"],[0.5555555555555556,\"#d8576b\"],[0.6666666666666666,\"#ed7953\"],[0.7777777777777778,\"#fb9f3a\"],[0.8888888888888888,\"#fdca26\"],[1.0,\"#f0f921\"]]}],\"mesh3d\":[{\"type\":\"mesh3d\",\"colorbar\":{\"outlinewidth\":0,\"ticks\":\"\"}}],\"scatter\":[{\"fillpattern\":{\"fillmode\":\"overlay\",\"size\":10,\"solidity\":0.2},\"type\":\"scatter\"}],\"parcoords\":[{\"type\":\"parcoords\",\"line\":{\"colorbar\":{\"outlinewidth\":0,\"ticks\":\"\"}}}],\"scatterpolargl\":[{\"type\":\"scatterpolargl\",\"marker\":{\"colorbar\":{\"outlinewidth\":0,\"ticks\":\"\"}}}],\"bar\":[{\"error_x\":{\"color\":\"#2a3f5f\"},\"error_y\":{\"color\":\"#2a3f5f\"},\"marker\":{\"line\":{\"color\":\"#E5ECF6\",\"width\":0.5},\"pattern\":{\"fillmode\":\"overlay\",\"size\":10,\"solidity\":0.2}},\"type\":\"bar\"}],\"scattergeo\":[{\"type\":\"scattergeo\",\"marker\":{\"colorbar\":{\"outlinewidth\":0,\"ticks\":\"\"}}}],\"scatterpolar\":[{\"type\":\"scatterpolar\",\"marker\":{\"colorbar\":{\"outlinewidth\":0,\"ticks\":\"\"}}}],\"histogram\":[{\"marker\":{\"pattern\":{\"fillmode\":\"overlay\",\"size\":10,\"solidity\":0.2}},\"type\":\"histogram\"}],\"scattergl\":[{\"type\":\"scattergl\",\"marker\":{\"colorbar\":{\"outlinewidth\":0,\"ticks\":\"\"}}}],\"scatter3d\":[{\"type\":\"scatter3d\",\"line\":{\"colorbar\":{\"outlinewidth\":0,\"ticks\":\"\"}},\"marker\":{\"colorbar\":{\"outlinewidth\":0,\"ticks\":\"\"}}}],\"scattermapbox\":[{\"type\":\"scattermapbox\",\"marker\":{\"colorbar\":{\"outlinewidth\":0,\"ticks\":\"\"}}}],\"scatterternary\":[{\"type\":\"scatterternary\",\"marker\":{\"colorbar\":{\"outlinewidth\":0,\"ticks\":\"\"}}}],\"scattercarpet\":[{\"type\":\"scattercarpet\",\"marker\":{\"colorbar\":{\"outlinewidth\":0,\"ticks\":\"\"}}}],\"carpet\":[{\"aaxis\":{\"endlinecolor\":\"#2a3f5f\",\"gridcolor\":\"white\",\"linecolor\":\"white\",\"minorgridcolor\":\"white\",\"startlinecolor\":\"#2a3f5f\"},\"baxis\":{\"endlinecolor\":\"#2a3f5f\",\"gridcolor\":\"white\",\"linecolor\":\"white\",\"minorgridcolor\":\"white\",\"startlinecolor\":\"#2a3f5f\"},\"type\":\"carpet\"}],\"table\":[{\"cells\":{\"fill\":{\"color\":\"#EBF0F8\"},\"line\":{\"color\":\"white\"}},\"header\":{\"fill\":{\"color\":\"#C8D4E3\"},\"line\":{\"color\":\"white\"}},\"type\":\"table\"}],\"barpolar\":[{\"marker\":{\"line\":{\"color\":\"#E5ECF6\",\"width\":0.5},\"pattern\":{\"fillmode\":\"overlay\",\"size\":10,\"solidity\":0.2}},\"type\":\"barpolar\"}],\"pie\":[{\"automargin\":true,\"type\":\"pie\"}]},\"layout\":{\"autotypenumbers\":\"strict\",\"colorway\":[\"#636efa\",\"#EF553B\",\"#00cc96\",\"#ab63fa\",\"#FFA15A\",\"#19d3f3\",\"#FF6692\",\"#B6E880\",\"#FF97FF\",\"#FECB52\"],\"font\":{\"color\":\"#2a3f5f\"},\"hovermode\":\"closest\",\"hoverlabel\":{\"align\":\"left\"},\"paper_bgcolor\":\"white\",\"plot_bgcolor\":\"#E5ECF6\",\"polar\":{\"bgcolor\":\"#E5ECF6\",\"angularaxis\":{\"gridcolor\":\"white\",\"linecolor\":\"white\",\"ticks\":\"\"},\"radialaxis\":{\"gridcolor\":\"white\",\"linecolor\":\"white\",\"ticks\":\"\"}},\"ternary\":{\"bgcolor\":\"#E5ECF6\",\"aaxis\":{\"gridcolor\":\"white\",\"linecolor\":\"white\",\"ticks\":\"\"},\"baxis\":{\"gridcolor\":\"white\",\"linecolor\":\"white\",\"ticks\":\"\"},\"caxis\":{\"gridcolor\":\"white\",\"linecolor\":\"white\",\"ticks\":\"\"}},\"coloraxis\":{\"colorbar\":{\"outlinewidth\":0,\"ticks\":\"\"}},\"colorscale\":{\"sequential\":[[0.0,\"#0d0887\"],[0.1111111111111111,\"#46039f\"],[0.2222222222222222,\"#7201a8\"],[0.3333333333333333,\"#9c179e\"],[0.4444444444444444,\"#bd3786\"],[0.5555555555555556,\"#d8576b\"],[0.6666666666666666,\"#ed7953\"],[0.7777777777777778,\"#fb9f3a\"],[0.8888888888888888,\"#fdca26\"],[1.0,\"#f0f921\"]],\"sequentialminus\":[[0.0,\"#0d0887\"],[0.1111111111111111,\"#46039f\"],[0.2222222222222222,\"#7201a8\"],[0.3333333333333333,\"#9c179e\"],[0.4444444444444444,\"#bd3786\"],[0.5555555555555556,\"#d8576b\"],[0.6666666666666666,\"#ed7953\"],[0.7777777777777778,\"#fb9f3a\"],[0.8888888888888888,\"#fdca26\"],[1.0,\"#f0f921\"]],\"diverging\":[[0,\"#8e0152\"],[0.1,\"#c51b7d\"],[0.2,\"#de77ae\"],[0.3,\"#f1b6da\"],[0.4,\"#fde0ef\"],[0.5,\"#f7f7f7\"],[0.6,\"#e6f5d0\"],[0.7,\"#b8e186\"],[0.8,\"#7fbc41\"],[0.9,\"#4d9221\"],[1,\"#276419\"]]},\"xaxis\":{\"gridcolor\":\"white\",\"linecolor\":\"white\",\"ticks\":\"\",\"title\":{\"standoff\":15},\"zerolinecolor\":\"white\",\"automargin\":true,\"zerolinewidth\":2},\"yaxis\":{\"gridcolor\":\"white\",\"linecolor\":\"white\",\"ticks\":\"\",\"title\":{\"standoff\":15},\"zerolinecolor\":\"white\",\"automargin\":true,\"zerolinewidth\":2},\"scene\":{\"xaxis\":{\"backgroundcolor\":\"#E5ECF6\",\"gridcolor\":\"white\",\"linecolor\":\"white\",\"showbackground\":true,\"ticks\":\"\",\"zerolinecolor\":\"white\",\"gridwidth\":2},\"yaxis\":{\"backgroundcolor\":\"#E5ECF6\",\"gridcolor\":\"white\",\"linecolor\":\"white\",\"showbackground\":true,\"ticks\":\"\",\"zerolinecolor\":\"white\",\"gridwidth\":2},\"zaxis\":{\"backgroundcolor\":\"#E5ECF6\",\"gridcolor\":\"white\",\"linecolor\":\"white\",\"showbackground\":true,\"ticks\":\"\",\"zerolinecolor\":\"white\",\"gridwidth\":2}},\"shapedefaults\":{\"line\":{\"color\":\"#2a3f5f\"}},\"annotationdefaults\":{\"arrowcolor\":\"#2a3f5f\",\"arrowhead\":0,\"arrowwidth\":1},\"geo\":{\"bgcolor\":\"white\",\"landcolor\":\"#E5ECF6\",\"subunitcolor\":\"white\",\"showland\":true,\"showlakes\":true,\"lakecolor\":\"white\"},\"title\":{\"x\":0.05},\"mapbox\":{\"style\":\"light\"}}}},                        {\"responsive\": true}                    ).then(function(){\n",
              "                            \n",
              "var gd = document.getElementById('d7cc1998-5caa-434c-b571-2d363252c0a6');\n",
              "var x = new MutationObserver(function (mutations, observer) {{\n",
              "        var display = window.getComputedStyle(gd).display;\n",
              "        if (!display || display === 'none') {{\n",
              "            console.log([gd, 'removed!']);\n",
              "            Plotly.purge(gd);\n",
              "            observer.disconnect();\n",
              "        }}\n",
              "}});\n",
              "\n",
              "// Listen for the removal of the full notebook cells\n",
              "var notebookContainer = gd.closest('#notebook-container');\n",
              "if (notebookContainer) {{\n",
              "    x.observe(notebookContainer, {childList: true});\n",
              "}}\n",
              "\n",
              "// Listen for the clearing of the current output cell\n",
              "var outputEl = gd.closest('.output');\n",
              "if (outputEl) {{\n",
              "    x.observe(outputEl, {childList: true});\n",
              "}}\n",
              "\n",
              "                        })                };                            </script>        </div>\n",
              "</body>\n",
              "</html>"
            ]
          },
          "metadata": {}
        }
      ]
    },
    {
      "cell_type": "code",
      "source": [
        "y_true = 100 + 20 * np.random.randn(1000)\n",
        "y_pred = y_true + 10 * np.random.randn(1000)\n",
        "results = pd.DataFrame({'y_true': y_true, 'y_pred': y_pred})\n",
        "results['error'] = results['y_true'] - results['y_pred']\n",
        "\n",
        "px.histogram(results, x='error', nbins=50, width=800)"
      ],
      "metadata": {
        "colab": {
          "base_uri": "https://localhost:8080/",
          "height": 542
        },
        "id": "D9Q2L3PwQ5EX",
        "outputId": "a21f5da7-f317-4797-c128-5b77bb0941b2"
      },
      "execution_count": 23,
      "outputs": [
        {
          "output_type": "display_data",
          "data": {
            "text/html": [
              "<html>\n",
              "<head><meta charset=\"utf-8\" /></head>\n",
              "<body>\n",
              "    <div>            <script src=\"https://cdnjs.cloudflare.com/ajax/libs/mathjax/2.7.5/MathJax.js?config=TeX-AMS-MML_SVG\"></script><script type=\"text/javascript\">if (window.MathJax && window.MathJax.Hub && window.MathJax.Hub.Config) {window.MathJax.Hub.Config({SVG: {font: \"STIX-Web\"}});}</script>                <script type=\"text/javascript\">window.PlotlyConfig = {MathJaxConfig: 'local'};</script>\n",
              "        <script charset=\"utf-8\" src=\"https://cdn.plot.ly/plotly-2.24.1.min.js\"></script>                <div id=\"8c007948-c858-4752-a7b3-c1dfc4071a1a\" class=\"plotly-graph-div\" style=\"height:525px; width:800px;\"></div>            <script type=\"text/javascript\">                                    window.PLOTLYENV=window.PLOTLYENV || {};                                    if (document.getElementById(\"8c007948-c858-4752-a7b3-c1dfc4071a1a\")) {                    Plotly.newPlot(                        \"8c007948-c858-4752-a7b3-c1dfc4071a1a\",                        [{\"alignmentgroup\":\"True\",\"bingroup\":\"x\",\"hovertemplate\":\"error=%{x}\\u003cbr\\u003ecount=%{y}\\u003cextra\\u003e\\u003c\\u002fextra\\u003e\",\"legendgroup\":\"\",\"marker\":{\"color\":\"#636efa\",\"pattern\":{\"shape\":\"\"}},\"name\":\"\",\"nbinsx\":50,\"offsetgroup\":\"\",\"orientation\":\"v\",\"showlegend\":false,\"x\":[12.80056267283991,-2.0585655821564615,8.381459078311195,-18.421211155109148,6.543729308092523,20.805485011260558,-5.6699874434717685,-5.770294899698058,-17.45076877502929,-12.726316466642878,0.24849269337653368,-1.942319212687508,1.116144754264397,-12.536334371771332,4.299278597942902,-0.8852452715930923,-6.975496259009461,-0.4618178931376349,9.619951527133793,6.561615990305015,-5.265189335673313,-3.4347214240187327,-10.056066760154678,6.726429470124515,11.898344533091318,11.821036464901624,-4.681248119411038,-7.278621385107826,9.616941683335213,-6.747577331096963,-4.348911056372174,-8.989264793223484,-4.768352999596971,-9.635004262503543,6.400797924650405,7.3508967316222,-3.9389654220438786,13.977090339650957,18.192773542047874,-1.1693899879341103,18.963577961652618,4.229714730506188,11.63320091926829,20.428507354880054,-10.100473152531734,4.602886019627107,-2.842063622754708,-13.821656792646564,8.663957120614754,-7.860068146173617,-23.734886421589167,-0.8029493534362189,-13.60655688740816,6.139240602359706,5.8794709594202885,7.9588215066251,-8.674037091258626,6.533305104693127,-10.423551337204174,-14.4948711430252,-2.320024218582901,9.31690390069484,-21.498044251745412,16.1902566413047,-12.304852358286723,5.03602951148644,15.071349316829298,0.8070559077038695,13.201223935711027,-5.908850252187406,14.978658418381755,-9.18688272905871,2.1259337730484447,13.915460474742204,-7.906549794220396,2.595113278585913,2.1057010459041123,-3.195421762637821,-10.612616084838393,-8.63228199221416,-12.305906130441585,0.3964451720019042,-10.180647553417174,-7.720175798702272,0.1846923199755821,1.5821351323756403,-2.4610979173328786,-7.4390154025753645,20.17550200938765,6.872742465457165,-1.0392752677941104,3.574628557513094,4.332025828155125,15.77914293735543,-10.432595213743156,-7.140428718304719,22.33616364028765,3.3212279035229813,-2.731935443798619,10.307564663772183,-9.049794905859102,-1.2459493626958107,16.721004600969422,7.759315262253821,10.552100888972717,-9.90750307706206,11.61725821516012,-6.7722432455558135,-6.852426956241601,6.490536585652109,-13.004871285292765,16.414116764872105,-16.12145944000295,-3.3328488084424777,0.699299656515791,-8.728341355513265,7.752857332039596,-3.098154635662681,15.433552435744204,6.426496330884731,-4.6228049945329985,-5.444600624871853,-1.7324839624854889,-23.483020594558596,-2.384940857401233,-6.5544412415068365,0.9317584299402597,9.081265037483895,-5.458626671746174,11.283775352547806,-14.878950906366384,9.396578886921574,7.929070496286499,-1.2480751397871899,8.556191457796274,-6.113993369399125,10.247356123374871,7.058846641035629,1.5286739985032938,1.43889113910285,3.829119703622794,7.483868187898665,-4.338935369695008,-1.5295534660413637,-2.327305781474905,18.872591235881927,3.6431918557922955,-5.117169218041596,0.24556019544867524,-1.4274780718797615,7.903182038171927,0.8541581138950249,12.570298148161129,12.470103457648015,-2.85815982267313,4.523079119031351,-2.2575788124061233,-16.70906891955454,-7.501375870791591,-7.936508070734661,5.838811856114063,-15.590616789333154,-11.804121311727059,-6.963987253346332,-8.774401807372627,-17.542211801290478,16.67775541852687,6.465892001101636,6.398956487579909,-1.43710482493168,-4.913493193717315,-1.9636180964793937,-2.239545590839896,8.605886420680704,20.022786696785985,2.871032952529802,-3.4030748639399917,-4.772881455859078,-2.0139921608910214,-11.39781393119651,-13.300396646035907,-6.972107595847788,24.42532811581451,5.048682987215301,15.71187259852195,5.8022290668156415,2.9488490700434085,-9.222770656314594,-8.639880138190875,-4.531312367402052,-7.49342653078007,15.3813709686995,11.893373586861031,0.8041648367742056,-0.09406990425566164,-0.39835232751678973,-0.023624375051852553,-5.5079702432043405,13.8274253892654,-12.648474502605708,-1.4519120740454952,19.581734187247022,-2.8035651494679854,-16.03764740265079,0.236730935005653,-4.55544669951496,-2.5409565033696992,-17.970760674269712,0.6480203093718018,1.6461930776048206,2.7603068607155237,8.07165519462022,13.900010303079085,-1.4120004221992986,1.2200667040250437,-0.9236760437336358,-3.8615572443645476,-2.405918777626063,-17.950444553997258,7.752651898776918,-3.6977577578242915,-12.811908192011288,-20.765276386390553,3.7894894770650325,-2.6768117537415037,-4.144243282480716,3.0453128330306782,5.880496079275048,11.462465261538966,-18.791872343521078,-1.2813101626886692,-8.552901160304813,9.978483608128386,-20.76384372435669,5.124154487013321,9.070631143015603,6.049270798030022,-5.938862875918616,3.783457419610613,-19.0005253121318,-6.807355153488771,3.0429336610759066,9.455740381161718,1.6367100468637403,3.3510297091496426,19.24598515388378,6.125031349029584,-5.3929670372188525,7.81297596633307,9.44147843923858,-8.248314564359134,21.41607306737066,0.3085325530235252,-2.326979046763441,-9.539899008842127,-6.8349796273464705,-7.130143453178192,6.299256269388991,4.7157394418332075,21.163073371176466,5.777359144929534,2.241692560192675,-16.667562499859926,0.45243364938379216,-0.47379135050849186,-5.891395339913942,13.491985048603198,-8.664181982098668,-2.376783073372792,16.323266713536384,10.625758777063169,18.74125094851587,-16.298193836799925,-16.490674416332425,-1.03177685377878,1.0192352537107467,-0.9100918939809759,-14.943610654660873,-0.36888058929183387,2.6978994988823928,6.387264262462182,10.25288371240866,3.9580790729472284,0.8065483258784951,-5.091778864046631,-0.3199926377003237,13.073404283564528,-17.99675403875409,3.4716216448123447,-1.6665745711071196,-12.129453756911246,31.104188512504308,1.8819382586559783,6.999345888032167,-6.964257146255449,-4.044625983751445,13.152381353376839,-10.71043478977964,-0.15915391002081947,-13.380100174577038,-2.083937138342989,-2.99345645133738,-3.7420778862508968,3.905400559812591,10.327361581650592,-9.346764557743214,-9.66785752613221,-12.133224715040399,-0.06726246168017269,1.880420548998103,-1.3104074984200338,2.4363119564276587,-0.20128148442211113,6.792401079727938,14.101237306585617,-10.068600607004555,-4.600757059206444,-0.3620848275625974,-16.548488353063817,-5.351688176329176,2.4877109387062575,-4.5104288199065365,-10.045070294869006,-11.09099040755278,0.852551795045585,11.268289127943461,4.137976654086884,-2.2952662806214903,-15.195542763288913,17.045519986719498,2.605287981981178,2.1652817467407743,-9.568244339560934,11.573946858994574,7.604151460913641,-5.404964421766294,12.374072341964762,2.942488567665251,6.162991150085944,-6.051518714419473,4.196685443635502,-5.183710172454269,-15.192335704406844,-8.68808455647654,-5.483498023848668,2.362061901787399,-8.25540617929255,-3.456306215091587,10.732289000436168,11.158786226598735,10.182265137239227,-4.2870855764150235,7.9831106774726805,-7.629699592934799,2.9317731401058325,-4.899961820313763,-1.2528607624048504,7.687698653750346,2.835234783261342,13.70689944807198,5.347995316022676,12.46125270685242,-10.007291031002765,-2.7467376599862803,7.483984543671781,21.0746147394391,6.841824223140165,2.3752203963871352,3.3825822779999584,-12.666339046685337,-20.854835116762985,-1.6243051394140053,7.762294049125089,-3.103321795754823,3.925186259274014,11.459521040216885,15.975124998379883,-0.469685988348985,-4.504070121071493,7.949483206968651,-0.6605728042878383,22.83676494677357,-8.929722195277137,-10.198734514880258,-1.163319302495367,-15.797366975271814,14.584723591548254,3.8848955867684367,-18.201990357334004,-18.590703328110422,10.66696532243023,19.267762273057826,6.7013750190983075,-15.64132527149971,9.027961561531072,-3.6637198461259857,-0.5235735125653775,-10.473060310527671,-10.971413615712713,-12.924046777701179,8.91440131947229,1.7940000839476937,-5.787733653123851,17.919658404835317,23.782597789695842,-11.598634582316492,7.742199404292521,-8.661445338713364,-3.159459875719719,-13.916734560562148,-9.251355265248748,-13.869583155300745,12.139305397194946,-11.60812883352466,2.2451412412311242,-15.823655859129104,6.664316162239189,10.190248155328902,-1.1824613055271413,12.014432689414448,-12.160839732404114,-1.367772068097409,8.56116180726626,12.984061296594987,0.7622230363457305,-0.052445890134450224,-6.121149512503351,7.11247769844222,-12.114677275742963,24.147213768536403,-15.677715163438336,3.494555671528474,-10.385140699021875,8.830403165455834,-7.667061578466843,-7.507638939389594,13.720745068104904,-3.8909556977322666,0.9145575904967984,-0.8125274919132011,2.872569484258321,-0.7532278336231286,-6.67598335652778,-21.392980252932716,20.27851082894219,4.066444453607673,-8.235122609396072,17.40104686195572,-2.8715226545722174,-4.741822408556118,0.5797297517998317,2.2129277471465514,-4.785154156328176,5.592434691195962,3.715312529183521,1.8366526394448073,-16.998597572723213,7.86525559614978,-0.5447629640997889,4.280092268836839,-4.696398003886145,3.906462751484625,-4.917597996187823,8.07393067830428,-3.2543932030525724,5.661460998115572,-5.358832043506425,2.9943967572343837,4.268393139898208,5.292178501175812,-11.848057829708736,-5.462274003212897,-6.244162393139973,-2.302791704184216,13.144143192167874,-17.987320194292195,5.425640473875788,-20.936195076706383,-0.9018109960694147,-0.30960241225652396,11.200960306590972,-9.073385439353629,13.920080437723684,-4.349068220832194,-12.171914715661543,14.833987627290298,-7.634302027573142,12.21632564946006,-7.361706543887323,-4.301991134527725,-17.108659997068685,12.270810156891585,3.416756381061333,7.414478377382878,9.579860183642168,-7.240572504507185,-3.26845795850204,12.98511337364404,-2.5563355768485394,21.45661936644153,17.94263833628429,0.901162636006319,10.567775045994452,12.086640330904189,3.6777464451557336,16.480879807171277,-3.849291192234503,7.885184674830043,3.266754667406232,5.354157251228884,-11.082349270527942,9.278822401232262,0.5054788009201019,1.3606092987028546,-17.754356996059443,-9.992482640679214,12.095364919728482,3.2040108402189134,-7.234606909332001,-2.9625124778760465,7.763753630935653,-8.139227395455947,-0.19037013322011376,-7.401722784456055,4.510304184454711,-2.2342084205580193,0.2887749501354193,2.906538103951476,1.1166490115092529,4.126049772735428,0.9993507470672114,-10.797279520630326,7.554357265570985,6.909337135594356,-17.16329159201979,-10.129011673217121,10.0147692642402,-5.480922097300478,4.993886213417042,7.760476116258737,-14.064075306283101,-6.090335781558366,-4.959825372102216,-12.758487937996804,2.875242287128927,17.451147013674245,-15.184663100205157,1.4886562816601838,8.778104003548677,-4.674716080787633,4.7005312001955275,5.8461490498795285,13.206668066332284,-3.383502683211006,-10.162567069450375,-9.488480006965972,1.273698216366995,18.080555585121672,4.117497081049336,0.6989443903740238,-1.318236784773191,4.25847828330194,-4.798399320337722,6.137695492737421,17.31629860302928,-13.084765597349062,-5.144858041735674,-2.8450173699377075,-9.215892537320883,0.26248408827946434,-5.417359175005686,8.559217039709353,1.2486264210500337,2.727525572365323,2.116876875388158,-6.012372515712109,15.291940860992938,3.8555559290740433,4.931770427046324,5.68922158668974,7.885018179413649,-6.755631316531378,4.521126459419733,-12.415452215085182,13.613617768332702,-10.09746654760184,-14.227016515425447,4.681468174752737,4.630297954277395,-8.352161085407062,3.778695347031757,-11.283306246436268,0.39302949310840063,-1.4620742388732708,7.554285784577488,-5.6238226016483,10.0835561212714,3.700562581793065,4.707616650424995,12.477110250595075,-0.45654728248642584,16.049729973378533,-7.643065257677577,-9.71671610015882,0.9245178407630164,7.997167298721479,-2.0512575805993833,3.1890495015428257,5.662063233226085,-0.33643377550532705,7.467093725320581,-4.69599324154747,0.8107332306479123,-23.232125720490288,-5.087206711734893,5.017365643915937,-1.0988927251799225,-4.070916458957811,5.252015667675039,7.796413521023354,6.854748176221534,-0.22916046049574845,1.9265336179997519,-8.633455624548645,-7.13503613949122,7.0351384018241845,-1.0336472692879823,-1.8383220538048448,-15.595458471088065,-4.481633603710748,16.12306240256291,-5.119855029904869,-14.264707698098547,-9.088603369735651,-10.89533186034852,2.0668927272152047,3.65097042258175,-3.354991065688438,20.975027252090214,10.043391639546456,7.394983280465013,-8.523418925288823,13.6427036168391,5.509240078101939,-5.123798661852803,12.759447752328711,15.336167790087586,-0.5006816320826175,10.496566581921158,-3.294347893406112,11.99716954385957,-7.607884920551271,-0.19961466628627988,12.701451249856248,-18.05243686393996,2.809371413080484,3.2625696769746924,3.4001216392843077,-14.362117731320893,6.55476479044485,-5.571576482025961,10.707316109096666,21.374118324100195,-11.170380446771333,0.6191208817622993,2.7858789586520487,-1.8669864250800146,-1.3057178800579408,-16.953709580239234,-7.049333574413382,2.393555591373172,4.526400272770346,5.286883598069593,3.1758937096044235,-12.399803838756625,-8.47169945954677,-8.739843107905713,-17.34466222997419,7.557395112192239,-6.892210952074748,-3.211031023081972,-2.0908015208793387,1.2062009290564362,-2.5909719064401315,6.620961685710554,24.823061215539326,2.0203331266017983,4.611892670974683,3.0380282990624607,-5.504998929919751,2.978512624940805,0.9975542840612519,-2.7416180691520964,4.3718577434487855,17.966284275723538,6.868024335074608,-2.179054137199657,-1.6793968790530016,8.188060973781603,-9.78400478499131,-3.730986390210745,6.909135851070573,6.732867267057841,12.875319802836884,1.615614011677195,-11.270237750880554,-2.9530513897099837,-6.504566485986388,-1.9761065564270694,-12.836431581735852,-15.165947874468344,1.443418527680663,3.919631464503624,5.096941787787188,9.73249223432937,-1.887912154082457,0.737216600454289,-14.29610381362668,-7.685109389411664,17.292978820157167,-11.632180839609632,-14.567479888435898,6.67833791876123,1.489983913069679,-17.744628274082118,8.7637770401182,-19.067571797203,-13.726575343843393,-3.6484172364402525,0.8840690991341091,-0.19783752583035152,1.1671121987320419,7.135674085228587,-8.045424382775778,2.065924025096976,1.9757340470240052,-6.841524636927559,-2.836319912280743,-25.055679447063454,-2.7343357463906557,-8.012805768584933,-3.8946992086821837,6.151931451315292,2.154067173456525,12.922381835639243,1.3813647631297101,8.149854593221505,-1.0731429670400559,4.455416584082485,-2.8043703388271126,-3.2508310272371688,9.276723293610218,-8.135584528317608,-7.158242112326974,7.576898027069731,3.1613500848483937,-14.098628958644667,-14.423654949049904,12.567855747065721,6.762396706719144,-11.699158337167418,-19.566835297082235,-16.46488437893487,5.896528725716109,6.627958877907631,5.363266460514552,21.52729378495613,3.0055173407128564,-9.769171121353239,0.08931627546925824,6.395261019770871,-2.3552432196644872,-2.343770996041826,-8.442899991298546,9.65118731690113,10.820826917777268,25.78160996452688,16.580880403790943,-5.334069870293305,7.280586212555349,-2.59328818888541,3.264707990540572,-11.539475692660574,-2.6808775754327883,2.719738278928304,8.572254980869474,8.507975750510795,-12.092686093978784,6.611960115187145,7.742723793468571,-14.742506481449169,-7.672581384066788,-19.427895889968397,-11.752801065643524,17.037721649951806,-6.1376110181087284,-5.409761202626328,-3.232173223910948,15.234728645357947,3.4587258702624553,-10.42610989356487,-2.5655269472778173,-10.43600804782011,4.4529110972234776,-5.917041883892054,4.724807287328247,10.032974842149542,10.858938948633366,5.709038105428846,18.600603780385498,-18.8068888771884,13.541322675807166,-0.3506432985186052,11.468181474267325,13.17898237021079,3.3309541197317714,-10.860967866032098,-1.3905831228183274,4.2994123283484385,-0.10055765028296548,3.7190097887183526,3.5044290852559214,4.050882842359357,4.205542515689515,-8.86554030446068,3.55121670267296,-5.762871281512517,-15.108562997108635,-5.247063468396931,11.943597713599544,-10.146342128474373,2.814917170740003,7.3040989064947865,3.406004902336093,12.979447042578528,-0.3253767670579748,-14.115012777996398,2.9512095975542394,-11.129481159278967,20.484302132292697,-2.550011958370092,0.4014599252266038,7.211844076432968,-8.30835456918193,-7.680383197804218,3.669954835597906,-3.159078530300903,5.1832217748756335,-6.04737903034885,-8.13543920135578,-27.308198783150374,-10.100129836000548,-5.353844035459161,1.6757346433812614,5.477904058262382,-13.168024432250618,2.7239554851199443,-6.83714441450347,-3.006235812638181,9.793630316637433,4.723062960277616,22.410128166512948,10.042190107164927,-0.2941369904752804,-11.014612941549402,-14.108417979812288,13.385479352642307,3.377079961139259,-9.070198836113008,5.714851055409113,-12.683971072664121,2.400042244357195,3.3075851885710534,-11.789191983647171,-10.56465712818867,-5.945834570639434,15.863808195483841,-6.082005622121386,6.822294338031014,-22.491002636713162,9.879204678346042,7.934120619449629,8.58893453280561,3.726725664689127,-13.077109374634404,-7.474427030998513,-6.929638149566699,-18.402436971889173,-9.973931163035545,-6.413553436100315,-6.207894749731196,1.32644045726515,-10.955116828551326,-6.5214959906615775,1.3877812853744018,10.977841504365657,-9.014546776321097,11.767991286445621,14.012782584050314,-10.131882498996504,2.6084166076925044,11.474258910393345,-6.999056593533211,5.615966756216366,-18.37887586623407,1.2719248830613026,13.557705092557171,-3.21316013166836,3.4892250342939803,15.415404286568773,1.533370802630472,-11.639590438827028,-0.44198650004310025,32.352920866502004,0.4177856889499765,-18.13691553051879,-6.699209697137874,4.511432689371645,5.341605078096322,11.913879479984388,7.45424920339228,15.877641564862515,-13.801114477796844,-28.420186299227467,-7.703459377983393,-15.102497133022027,-6.87389439210169,2.898374962055442,0.19834597846025304,11.675869590537332,-16.282912442345037,4.001957776993947,-2.7494729419156982,-4.441170208643712,5.834395783322208,-3.673232090881015,2.4883244416782446,-7.40540841801112,10.236912327170415,0.252154518691043,6.318242346037451,-2.91738139315909,-3.52662525597745,11.68358400737715,-15.44744763882673,-7.150265971681847,13.89509804415681,-4.668469706744091,10.923089559470554,-3.2669369147337335,-3.1396723341041906,13.247173387864493,-4.446041544377479,-0.2167828992148486,4.865427430683326,21.124053087787416,-9.010064214918017,2.851388949725191,-26.198283302429545,4.169682688609782,-0.34983607753582646,9.903289115378286,-5.1231746388830715,4.627984257152974,-16.61083134362802,0.7911989362682306,-0.7634714238621427,0.6486019911020264,1.4179110627250964,-0.6669361238637777,-13.248107508230078,6.036057670228118,1.029966676000143,-6.686306962899607,-1.9958853484646966,1.1907045585847982,0.37639860331820785,-12.893479409947389,4.65009613408219,-4.980787716824352,0.8066999645842259,5.066323498774622,11.429349130940608,-15.748203023926223,1.378192740770487,8.354931152170238,-20.020898941388197,8.586135538515265,-1.2541829708485324,-23.311528678149358,6.341567354799309,-20.164126067020618,0.2534210289434782,1.155167376435088,16.786632977923347,0.18884047042340057,-4.5161070642098196,5.8277261180137,3.539733244973931,-6.772714574183453],\"xaxis\":\"x\",\"yaxis\":\"y\",\"type\":\"histogram\"}],                        {\"template\":{\"data\":{\"histogram2dcontour\":[{\"type\":\"histogram2dcontour\",\"colorbar\":{\"outlinewidth\":0,\"ticks\":\"\"},\"colorscale\":[[0.0,\"#0d0887\"],[0.1111111111111111,\"#46039f\"],[0.2222222222222222,\"#7201a8\"],[0.3333333333333333,\"#9c179e\"],[0.4444444444444444,\"#bd3786\"],[0.5555555555555556,\"#d8576b\"],[0.6666666666666666,\"#ed7953\"],[0.7777777777777778,\"#fb9f3a\"],[0.8888888888888888,\"#fdca26\"],[1.0,\"#f0f921\"]]}],\"choropleth\":[{\"type\":\"choropleth\",\"colorbar\":{\"outlinewidth\":0,\"ticks\":\"\"}}],\"histogram2d\":[{\"type\":\"histogram2d\",\"colorbar\":{\"outlinewidth\":0,\"ticks\":\"\"},\"colorscale\":[[0.0,\"#0d0887\"],[0.1111111111111111,\"#46039f\"],[0.2222222222222222,\"#7201a8\"],[0.3333333333333333,\"#9c179e\"],[0.4444444444444444,\"#bd3786\"],[0.5555555555555556,\"#d8576b\"],[0.6666666666666666,\"#ed7953\"],[0.7777777777777778,\"#fb9f3a\"],[0.8888888888888888,\"#fdca26\"],[1.0,\"#f0f921\"]]}],\"heatmap\":[{\"type\":\"heatmap\",\"colorbar\":{\"outlinewidth\":0,\"ticks\":\"\"},\"colorscale\":[[0.0,\"#0d0887\"],[0.1111111111111111,\"#46039f\"],[0.2222222222222222,\"#7201a8\"],[0.3333333333333333,\"#9c179e\"],[0.4444444444444444,\"#bd3786\"],[0.5555555555555556,\"#d8576b\"],[0.6666666666666666,\"#ed7953\"],[0.7777777777777778,\"#fb9f3a\"],[0.8888888888888888,\"#fdca26\"],[1.0,\"#f0f921\"]]}],\"heatmapgl\":[{\"type\":\"heatmapgl\",\"colorbar\":{\"outlinewidth\":0,\"ticks\":\"\"},\"colorscale\":[[0.0,\"#0d0887\"],[0.1111111111111111,\"#46039f\"],[0.2222222222222222,\"#7201a8\"],[0.3333333333333333,\"#9c179e\"],[0.4444444444444444,\"#bd3786\"],[0.5555555555555556,\"#d8576b\"],[0.6666666666666666,\"#ed7953\"],[0.7777777777777778,\"#fb9f3a\"],[0.8888888888888888,\"#fdca26\"],[1.0,\"#f0f921\"]]}],\"contourcarpet\":[{\"type\":\"contourcarpet\",\"colorbar\":{\"outlinewidth\":0,\"ticks\":\"\"}}],\"contour\":[{\"type\":\"contour\",\"colorbar\":{\"outlinewidth\":0,\"ticks\":\"\"},\"colorscale\":[[0.0,\"#0d0887\"],[0.1111111111111111,\"#46039f\"],[0.2222222222222222,\"#7201a8\"],[0.3333333333333333,\"#9c179e\"],[0.4444444444444444,\"#bd3786\"],[0.5555555555555556,\"#d8576b\"],[0.6666666666666666,\"#ed7953\"],[0.7777777777777778,\"#fb9f3a\"],[0.8888888888888888,\"#fdca26\"],[1.0,\"#f0f921\"]]}],\"surface\":[{\"type\":\"surface\",\"colorbar\":{\"outlinewidth\":0,\"ticks\":\"\"},\"colorscale\":[[0.0,\"#0d0887\"],[0.1111111111111111,\"#46039f\"],[0.2222222222222222,\"#7201a8\"],[0.3333333333333333,\"#9c179e\"],[0.4444444444444444,\"#bd3786\"],[0.5555555555555556,\"#d8576b\"],[0.6666666666666666,\"#ed7953\"],[0.7777777777777778,\"#fb9f3a\"],[0.8888888888888888,\"#fdca26\"],[1.0,\"#f0f921\"]]}],\"mesh3d\":[{\"type\":\"mesh3d\",\"colorbar\":{\"outlinewidth\":0,\"ticks\":\"\"}}],\"scatter\":[{\"fillpattern\":{\"fillmode\":\"overlay\",\"size\":10,\"solidity\":0.2},\"type\":\"scatter\"}],\"parcoords\":[{\"type\":\"parcoords\",\"line\":{\"colorbar\":{\"outlinewidth\":0,\"ticks\":\"\"}}}],\"scatterpolargl\":[{\"type\":\"scatterpolargl\",\"marker\":{\"colorbar\":{\"outlinewidth\":0,\"ticks\":\"\"}}}],\"bar\":[{\"error_x\":{\"color\":\"#2a3f5f\"},\"error_y\":{\"color\":\"#2a3f5f\"},\"marker\":{\"line\":{\"color\":\"#E5ECF6\",\"width\":0.5},\"pattern\":{\"fillmode\":\"overlay\",\"size\":10,\"solidity\":0.2}},\"type\":\"bar\"}],\"scattergeo\":[{\"type\":\"scattergeo\",\"marker\":{\"colorbar\":{\"outlinewidth\":0,\"ticks\":\"\"}}}],\"scatterpolar\":[{\"type\":\"scatterpolar\",\"marker\":{\"colorbar\":{\"outlinewidth\":0,\"ticks\":\"\"}}}],\"histogram\":[{\"marker\":{\"pattern\":{\"fillmode\":\"overlay\",\"size\":10,\"solidity\":0.2}},\"type\":\"histogram\"}],\"scattergl\":[{\"type\":\"scattergl\",\"marker\":{\"colorbar\":{\"outlinewidth\":0,\"ticks\":\"\"}}}],\"scatter3d\":[{\"type\":\"scatter3d\",\"line\":{\"colorbar\":{\"outlinewidth\":0,\"ticks\":\"\"}},\"marker\":{\"colorbar\":{\"outlinewidth\":0,\"ticks\":\"\"}}}],\"scattermapbox\":[{\"type\":\"scattermapbox\",\"marker\":{\"colorbar\":{\"outlinewidth\":0,\"ticks\":\"\"}}}],\"scatterternary\":[{\"type\":\"scatterternary\",\"marker\":{\"colorbar\":{\"outlinewidth\":0,\"ticks\":\"\"}}}],\"scattercarpet\":[{\"type\":\"scattercarpet\",\"marker\":{\"colorbar\":{\"outlinewidth\":0,\"ticks\":\"\"}}}],\"carpet\":[{\"aaxis\":{\"endlinecolor\":\"#2a3f5f\",\"gridcolor\":\"white\",\"linecolor\":\"white\",\"minorgridcolor\":\"white\",\"startlinecolor\":\"#2a3f5f\"},\"baxis\":{\"endlinecolor\":\"#2a3f5f\",\"gridcolor\":\"white\",\"linecolor\":\"white\",\"minorgridcolor\":\"white\",\"startlinecolor\":\"#2a3f5f\"},\"type\":\"carpet\"}],\"table\":[{\"cells\":{\"fill\":{\"color\":\"#EBF0F8\"},\"line\":{\"color\":\"white\"}},\"header\":{\"fill\":{\"color\":\"#C8D4E3\"},\"line\":{\"color\":\"white\"}},\"type\":\"table\"}],\"barpolar\":[{\"marker\":{\"line\":{\"color\":\"#E5ECF6\",\"width\":0.5},\"pattern\":{\"fillmode\":\"overlay\",\"size\":10,\"solidity\":0.2}},\"type\":\"barpolar\"}],\"pie\":[{\"automargin\":true,\"type\":\"pie\"}]},\"layout\":{\"autotypenumbers\":\"strict\",\"colorway\":[\"#636efa\",\"#EF553B\",\"#00cc96\",\"#ab63fa\",\"#FFA15A\",\"#19d3f3\",\"#FF6692\",\"#B6E880\",\"#FF97FF\",\"#FECB52\"],\"font\":{\"color\":\"#2a3f5f\"},\"hovermode\":\"closest\",\"hoverlabel\":{\"align\":\"left\"},\"paper_bgcolor\":\"white\",\"plot_bgcolor\":\"#E5ECF6\",\"polar\":{\"bgcolor\":\"#E5ECF6\",\"angularaxis\":{\"gridcolor\":\"white\",\"linecolor\":\"white\",\"ticks\":\"\"},\"radialaxis\":{\"gridcolor\":\"white\",\"linecolor\":\"white\",\"ticks\":\"\"}},\"ternary\":{\"bgcolor\":\"#E5ECF6\",\"aaxis\":{\"gridcolor\":\"white\",\"linecolor\":\"white\",\"ticks\":\"\"},\"baxis\":{\"gridcolor\":\"white\",\"linecolor\":\"white\",\"ticks\":\"\"},\"caxis\":{\"gridcolor\":\"white\",\"linecolor\":\"white\",\"ticks\":\"\"}},\"coloraxis\":{\"colorbar\":{\"outlinewidth\":0,\"ticks\":\"\"}},\"colorscale\":{\"sequential\":[[0.0,\"#0d0887\"],[0.1111111111111111,\"#46039f\"],[0.2222222222222222,\"#7201a8\"],[0.3333333333333333,\"#9c179e\"],[0.4444444444444444,\"#bd3786\"],[0.5555555555555556,\"#d8576b\"],[0.6666666666666666,\"#ed7953\"],[0.7777777777777778,\"#fb9f3a\"],[0.8888888888888888,\"#fdca26\"],[1.0,\"#f0f921\"]],\"sequentialminus\":[[0.0,\"#0d0887\"],[0.1111111111111111,\"#46039f\"],[0.2222222222222222,\"#7201a8\"],[0.3333333333333333,\"#9c179e\"],[0.4444444444444444,\"#bd3786\"],[0.5555555555555556,\"#d8576b\"],[0.6666666666666666,\"#ed7953\"],[0.7777777777777778,\"#fb9f3a\"],[0.8888888888888888,\"#fdca26\"],[1.0,\"#f0f921\"]],\"diverging\":[[0,\"#8e0152\"],[0.1,\"#c51b7d\"],[0.2,\"#de77ae\"],[0.3,\"#f1b6da\"],[0.4,\"#fde0ef\"],[0.5,\"#f7f7f7\"],[0.6,\"#e6f5d0\"],[0.7,\"#b8e186\"],[0.8,\"#7fbc41\"],[0.9,\"#4d9221\"],[1,\"#276419\"]]},\"xaxis\":{\"gridcolor\":\"white\",\"linecolor\":\"white\",\"ticks\":\"\",\"title\":{\"standoff\":15},\"zerolinecolor\":\"white\",\"automargin\":true,\"zerolinewidth\":2},\"yaxis\":{\"gridcolor\":\"white\",\"linecolor\":\"white\",\"ticks\":\"\",\"title\":{\"standoff\":15},\"zerolinecolor\":\"white\",\"automargin\":true,\"zerolinewidth\":2},\"scene\":{\"xaxis\":{\"backgroundcolor\":\"#E5ECF6\",\"gridcolor\":\"white\",\"linecolor\":\"white\",\"showbackground\":true,\"ticks\":\"\",\"zerolinecolor\":\"white\",\"gridwidth\":2},\"yaxis\":{\"backgroundcolor\":\"#E5ECF6\",\"gridcolor\":\"white\",\"linecolor\":\"white\",\"showbackground\":true,\"ticks\":\"\",\"zerolinecolor\":\"white\",\"gridwidth\":2},\"zaxis\":{\"backgroundcolor\":\"#E5ECF6\",\"gridcolor\":\"white\",\"linecolor\":\"white\",\"showbackground\":true,\"ticks\":\"\",\"zerolinecolor\":\"white\",\"gridwidth\":2}},\"shapedefaults\":{\"line\":{\"color\":\"#2a3f5f\"}},\"annotationdefaults\":{\"arrowcolor\":\"#2a3f5f\",\"arrowhead\":0,\"arrowwidth\":1},\"geo\":{\"bgcolor\":\"white\",\"landcolor\":\"#E5ECF6\",\"subunitcolor\":\"white\",\"showland\":true,\"showlakes\":true,\"lakecolor\":\"white\"},\"title\":{\"x\":0.05},\"mapbox\":{\"style\":\"light\"}}},\"xaxis\":{\"anchor\":\"y\",\"domain\":[0.0,1.0],\"title\":{\"text\":\"error\"}},\"yaxis\":{\"anchor\":\"x\",\"domain\":[0.0,1.0],\"title\":{\"text\":\"count\"}},\"legend\":{\"tracegroupgap\":0},\"margin\":{\"t\":60},\"barmode\":\"relative\",\"width\":800},                        {\"responsive\": true}                    ).then(function(){\n",
              "                            \n",
              "var gd = document.getElementById('8c007948-c858-4752-a7b3-c1dfc4071a1a');\n",
              "var x = new MutationObserver(function (mutations, observer) {{\n",
              "        var display = window.getComputedStyle(gd).display;\n",
              "        if (!display || display === 'none') {{\n",
              "            console.log([gd, 'removed!']);\n",
              "            Plotly.purge(gd);\n",
              "            observer.disconnect();\n",
              "        }}\n",
              "}});\n",
              "\n",
              "// Listen for the removal of the full notebook cells\n",
              "var notebookContainer = gd.closest('#notebook-container');\n",
              "if (notebookContainer) {{\n",
              "    x.observe(notebookContainer, {childList: true});\n",
              "}}\n",
              "\n",
              "// Listen for the clearing of the current output cell\n",
              "var outputEl = gd.closest('.output');\n",
              "if (outputEl) {{\n",
              "    x.observe(outputEl, {childList: true});\n",
              "}}\n",
              "\n",
              "                        })                };                            </script>        </div>\n",
              "</body>\n",
              "</html>"
            ]
          },
          "metadata": {}
        }
      ]
    },
    {
      "cell_type": "markdown",
      "source": [
        "## Mean Absolute Error - Średni błąd względny"
      ],
      "metadata": {
        "id": "SbcuOeWIRywA"
      }
    },
    {
      "cell_type": "code",
      "source": [
        "def mean_absolute_error(y_true, y_pred):\n",
        "  return abs(y_true - y_pred).sum() / len(y_true)\n",
        "\n",
        "mean_absolute_error(y_true, y_pred)"
      ],
      "metadata": {
        "colab": {
          "base_uri": "https://localhost:8080/"
        },
        "id": "oIKbwQb_R3xx",
        "outputId": "abd43c97-4e28-476a-8df2-34c64db6ab3b"
      },
      "execution_count": 24,
      "outputs": [
        {
          "output_type": "execute_result",
          "data": {
            "text/plain": [
              "7.785499374254627"
            ]
          },
          "metadata": {},
          "execution_count": 24
        }
      ]
    },
    {
      "cell_type": "code",
      "source": [
        "from sklearn.metrics import mean_absolute_error\n",
        "mean_absolute_error(y_true, y_pred)"
      ],
      "metadata": {
        "colab": {
          "base_uri": "https://localhost:8080/"
        },
        "id": "__nlZxQUSHfJ",
        "outputId": "05bd3e17-c2c5-468a-e2c7-24d1a80e5964"
      },
      "execution_count": 26,
      "outputs": [
        {
          "output_type": "execute_result",
          "data": {
            "text/plain": [
              "7.785499374254627"
            ]
          },
          "metadata": {},
          "execution_count": 26
        }
      ]
    },
    {
      "cell_type": "markdown",
      "source": [
        "## Mean Squared Error - MSE - Błąd średniokwadratowy"
      ],
      "metadata": {
        "id": "7Z_SDsy8SRyI"
      }
    },
    {
      "cell_type": "code",
      "source": [
        "def mean_squared_error(y_true, y_pred):\n",
        "  return ((y_true - y_pred) ** 2).sum() / len(y_true)\n",
        "\n",
        "mean_squared_error(y_true, y_pred)"
      ],
      "metadata": {
        "colab": {
          "base_uri": "https://localhost:8080/"
        },
        "id": "EOtJUtZqSWr-",
        "outputId": "113f560e-1280-4d5d-e734-d14ef366fbfe"
      },
      "execution_count": 28,
      "outputs": [
        {
          "output_type": "execute_result",
          "data": {
            "text/plain": [
              "94.1885060841497"
            ]
          },
          "metadata": {},
          "execution_count": 28
        }
      ]
    },
    {
      "cell_type": "code",
      "source": [
        "from sklearn.metrics import mean_squared_error"
      ],
      "metadata": {
        "id": "x4erjfWNSy8n"
      },
      "execution_count": 29,
      "outputs": []
    },
    {
      "cell_type": "markdown",
      "source": [
        "## Root Mean Squared Error - RMSE - Pierwiastek błędu średniokwadratowego"
      ],
      "metadata": {
        "id": "RN_8ApwTS47c"
      }
    },
    {
      "cell_type": "code",
      "source": [
        "def root_mean_squarred_error(y_true, y_pred):\n",
        "  return np.sqrt(((y_true - y_pred) ** 2).sum() / len(y_true))\n",
        "\n",
        "root_mean_squarred_error(y_true, y_pred)"
      ],
      "metadata": {
        "colab": {
          "base_uri": "https://localhost:8080/"
        },
        "id": "YTX2PMvJS_Mu",
        "outputId": "57f4b1c4-5694-4705-aecb-441ce52e0f90"
      },
      "execution_count": 30,
      "outputs": [
        {
          "output_type": "execute_result",
          "data": {
            "text/plain": [
              "9.705076304911245"
            ]
          },
          "metadata": {},
          "execution_count": 30
        }
      ]
    },
    {
      "cell_type": "code",
      "source": [
        "np.sqrt(mean_squared_error(y_true, y_pred))"
      ],
      "metadata": {
        "colab": {
          "base_uri": "https://localhost:8080/"
        },
        "id": "IEPRx5juTVfU",
        "outputId": "c630dc30-03a0-4c8c-e857-02d82ba6a7ef"
      },
      "execution_count": 31,
      "outputs": [
        {
          "output_type": "execute_result",
          "data": {
            "text/plain": [
              "9.705076304911245"
            ]
          },
          "metadata": {},
          "execution_count": 31
        }
      ]
    },
    {
      "cell_type": "markdown",
      "source": [
        "## Max Error - Błąd maksymalny"
      ],
      "metadata": {
        "id": "Qlh8hySPTdCK"
      }
    },
    {
      "cell_type": "code",
      "source": [
        "def max_error(y_true, y_pred):\n",
        "  return abs(y_true - y_pred).max()"
      ],
      "metadata": {
        "id": "MC55w-smTfs4"
      },
      "execution_count": 32,
      "outputs": []
    },
    {
      "cell_type": "code",
      "source": [
        "max_error(y_true, y_pred)"
      ],
      "metadata": {
        "colab": {
          "base_uri": "https://localhost:8080/"
        },
        "id": "_LiKB2nyTmZY",
        "outputId": "d68213dc-dceb-42dd-b6bd-140e09ef7341"
      },
      "execution_count": 33,
      "outputs": [
        {
          "output_type": "execute_result",
          "data": {
            "text/plain": [
              "32.352920866502004"
            ]
          },
          "metadata": {},
          "execution_count": 33
        }
      ]
    },
    {
      "cell_type": "code",
      "source": [
        "from sklearn.metrics import max_error\n",
        "\n",
        "max_error(y_true, y_pred)"
      ],
      "metadata": {
        "colab": {
          "base_uri": "https://localhost:8080/"
        },
        "id": "AyUvDJucTo-v",
        "outputId": "9a27842b-a7ea-402f-839e-c09717556b21"
      },
      "execution_count": 34,
      "outputs": [
        {
          "output_type": "execute_result",
          "data": {
            "text/plain": [
              "32.352920866502004"
            ]
          },
          "metadata": {},
          "execution_count": 34
        }
      ]
    },
    {
      "cell_type": "markdown",
      "source": [
        "## R2 score - wspołczynnik determinacji"
      ],
      "metadata": {
        "id": "TYQVd4CCTwfN"
      }
    },
    {
      "cell_type": "code",
      "source": [
        "from sklearn.metrics import r2_score\n",
        "\n",
        "r2_score(y_true, y_pred)"
      ],
      "metadata": {
        "colab": {
          "base_uri": "https://localhost:8080/"
        },
        "id": "MJIsh1QvTzzw",
        "outputId": "b511bc35-c682-45d2-a65f-92dfdfd0fef8"
      },
      "execution_count": 35,
      "outputs": [
        {
          "output_type": "execute_result",
          "data": {
            "text/plain": [
              "0.7340859023169748"
            ]
          },
          "metadata": {},
          "execution_count": 35
        }
      ]
    }
  ]
}